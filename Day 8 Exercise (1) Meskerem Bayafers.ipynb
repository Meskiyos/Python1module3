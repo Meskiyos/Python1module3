{
 "cells": [
  {
   "cell_type": "markdown",
   "metadata": {},
   "source": [
    "### Exercise 1. \n",
    "Create a dictionary named pairs with key value pairs of:\n",
    "    - 'hello' and 'fire', \n",
    "    - 3 and 'seven', \n",
    "    - 'strong' and 45. \n",
    "\n",
    "Then, print out the dictionary."
   ]
  },
  {
   "cell_type": "code",
   "execution_count": 1,
   "metadata": {},
   "outputs": [
    {
     "name": "stdout",
     "output_type": "stream",
     "text": [
      "{'hello': 'fire', '-3': 'seven', 'strong': 45}\n"
     ]
    }
   ],
   "source": [
    "pairs = {'hello': 'fire', '-3': 'seven', 'strong': 45}\n",
    "print(pairs)"
   ]
  },
  {
   "cell_type": "markdown",
   "metadata": {},
   "source": [
    "### Exercise 2. \n",
    "Add 'welcome' and 56 pair into <b><i>pairs</i></b> dictionary from exercise 1. Then, print out the dictionary. "
   ]
  },
  {
   "cell_type": "code",
   "execution_count": 18,
   "metadata": {},
   "outputs": [
    {
     "ename": "SyntaxError",
     "evalue": "cannot assign to literal (<ipython-input-18-f5a7d6bf6818>, line 3)",
     "output_type": "error",
     "traceback": [
      "\u001b[1;36m  File \u001b[1;32m\"<ipython-input-18-f5a7d6bf6818>\"\u001b[1;36m, line \u001b[1;32m3\u001b[0m\n\u001b[1;33m    pairs = ['welcome']= 56\u001b[0m\n\u001b[1;37m            ^\u001b[0m\n\u001b[1;31mSyntaxError\u001b[0m\u001b[1;31m:\u001b[0m cannot assign to literal\n"
     ]
    }
   ],
   "source": [
    "pairs = {'hello': 'fire', '-3': 'seven', 'strong': 45}\n",
    "print(pairs)\n",
    "pairs = ['welcome']= 56\n",
    "print (\"After adding\")\n",
    "print(pairs)"
   ]
  },
  {
   "cell_type": "markdown",
   "metadata": {},
   "source": [
    "### Exercise 3. \n",
    "Delete one item from <b><i>pairs</i></b> dictionary. Then, print deleted item and the dictionary."
   ]
  },
  {
   "cell_type": "code",
   "execution_count": 8,
   "metadata": {},
   "outputs": [
    {
     "name": "stdout",
     "output_type": "stream",
     "text": [
      "{'hello': 'fire', '-3': 'seven', 'strong': 45}\n",
      "{'hello': 'fire', '-3': 'seven', 'strong': 45}\n",
      "fire\n",
      "{'-3': 'seven', 'strong': 45}\n"
     ]
    }
   ],
   "source": [
    "pairs = {'hello': 'fire', '-3': 'seven', 'strong': 45}\n",
    "print(pairs)\n",
    "print(pairs)\n",
    "item = pairs.pop('hello')\n",
    "print(item)\n",
    "print(pairs)"
   ]
  },
  {
   "cell_type": "markdown",
   "metadata": {},
   "source": [
    "### Exercise 4. \n",
    "Print the value of an item where key is 3 in <b><i>pairs</i></b> dicitonary"
   ]
  },
  {
   "cell_type": "code",
   "execution_count": 11,
   "metadata": {},
   "outputs": [
    {
     "name": "stdout",
     "output_type": "stream",
     "text": [
      "{'hello': 'fire', '-3': 'seven', 'strong': 45}\n"
     ]
    },
    {
     "ename": "TypeError",
     "evalue": "keys() takes no arguments (1 given)",
     "output_type": "error",
     "traceback": [
      "\u001b[1;31m---------------------------------------------------------------------------\u001b[0m",
      "\u001b[1;31mTypeError\u001b[0m                                 Traceback (most recent call last)",
      "\u001b[1;32m<ipython-input-11-73f60e0f27ef>\u001b[0m in \u001b[0;36m<module>\u001b[1;34m\u001b[0m\n\u001b[0;32m      1\u001b[0m \u001b[0mpairs\u001b[0m \u001b[1;33m=\u001b[0m \u001b[1;33m{\u001b[0m\u001b[1;34m'hello'\u001b[0m\u001b[1;33m:\u001b[0m \u001b[1;34m'fire'\u001b[0m\u001b[1;33m,\u001b[0m \u001b[1;34m'-3'\u001b[0m\u001b[1;33m:\u001b[0m \u001b[1;34m'seven'\u001b[0m\u001b[1;33m,\u001b[0m \u001b[1;34m'strong'\u001b[0m\u001b[1;33m:\u001b[0m \u001b[1;36m45\u001b[0m\u001b[1;33m}\u001b[0m\u001b[1;33m\u001b[0m\u001b[1;33m\u001b[0m\u001b[0m\n\u001b[0;32m      2\u001b[0m \u001b[0mprint\u001b[0m\u001b[1;33m(\u001b[0m\u001b[0mpairs\u001b[0m\u001b[1;33m)\u001b[0m\u001b[1;33m\u001b[0m\u001b[1;33m\u001b[0m\u001b[0m\n\u001b[1;32m----> 3\u001b[1;33m \u001b[0mprint\u001b[0m\u001b[1;33m(\u001b[0m\u001b[0mpairs\u001b[0m\u001b[1;33m.\u001b[0m\u001b[0mkeys\u001b[0m\u001b[1;33m(\u001b[0m\u001b[1;36m3\u001b[0m\u001b[1;33m)\u001b[0m\u001b[1;33m)\u001b[0m\u001b[1;33m\u001b[0m\u001b[1;33m\u001b[0m\u001b[0m\n\u001b[0m",
      "\u001b[1;31mTypeError\u001b[0m: keys() takes no arguments (1 given)"
     ]
    }
   ],
   "source": [
    "pairs = {'hello': 'fire', '-3': 'seven', 'strong': 45}\n",
    "print(pairs)\n",
    "print(pairs.keys(3))"
   ]
  },
  {
   "cell_type": "markdown",
   "metadata": {},
   "source": [
    "### Exercise 5. \n",
    "Try to find out if the key called 'hello' exist in <b><i>pairs</i></b> dictionary. Print 'key is found' message if the key exists otherwise print 'key is not there'."
   ]
  },
  {
   "cell_type": "code",
   "execution_count": 13,
   "metadata": {},
   "outputs": [
    {
     "ename": "SyntaxError",
     "evalue": "cannot assign to literal (<ipython-input-13-4d5391de9efd>, line 6)",
     "output_type": "error",
     "traceback": [
      "\u001b[1;36m  File \u001b[1;32m\"<ipython-input-13-4d5391de9efd>\"\u001b[1;36m, line \u001b[1;32m6\u001b[0m\n\u001b[1;33m    for 'hello' in pairs.values():\u001b[0m\n\u001b[1;37m        ^\u001b[0m\n\u001b[1;31mSyntaxError\u001b[0m\u001b[1;31m:\u001b[0m cannot assign to literal\n"
     ]
    }
   ],
   "source": [
    "pairs = {'hello': 'fire', '-3': 'seven', 'strong': 45}\n",
    "print(pairs)\n",
    "\n",
    "valueInside = 'hello'\n",
    "\n",
    "for 'hello' in pairs.values():\n",
    "    for value in pairs.values():\n",
    "        print(f\"value={value}\")\n",
    "        if \"hello\" in str(value):\n",
    "            valueInside = True\n",
    "\n",
    "if valueInside == True:\n",
    "    print(\"key is found.\")\n",
    "else:\n",
    "    print('key is not there')\n",
    "\n",
    "print(pairs)    \n",
    "            "
   ]
  },
  {
   "cell_type": "markdown",
   "metadata": {},
   "source": [
    "### Exercise 6. \n",
    "Create a Test Scores program that gets the name of students and test score from a user. Then, generate a list of students who passed and a list of students who failed where passing test score is 60 or above. "
   ]
  },
  {
   "cell_type": "code",
   "execution_count": null,
   "metadata": {},
   "outputs": [],
   "source": []
  },
  {
   "cell_type": "code",
   "execution_count": null,
   "metadata": {},
   "outputs": [],
   "source": []
  },
  {
   "cell_type": "markdown",
   "metadata": {},
   "source": [
    "### Exercise 7. \n",
    "\n",
    "Create a Word Counter program that gets a string of text from a user and then counts the number of times a word occrs in the string. \n",
    "\n",
    "The output should look something like this:\n",
    "\n",
    "    The Word Counter Program\n",
    "    \n",
    "    Enter a text string: \n",
    "    Humpty Dumpty sat on a wall, Humpty Dumpty had a great fall. All the king’s horses and all the king’s men couldn’t put Humpty together again.\n",
    "\n",
    "    a : 2\n",
    "    again : 1\n",
    "    all : 2\n",
    "    and : 1\n",
    "    couldn’t : 1\n",
    "    dumpty : 2\n",
    "    fall : 1\n",
    "    great : 1\n",
    "    had : 1\n",
    "    horses : 1\n",
    "    humpty : 3\n",
    "    king’s : 2\n",
    "    men : 1\n",
    "    on : 1\n",
    "    put : 1\n",
    "    sat : 1\n",
    "    the : 2\n",
    "    together : 1\n",
    "    wall : 1\n",
    "\n",
    "    There were total 26 words in the text string   "
   ]
  },
  {
   "cell_type": "code",
   "execution_count": null,
   "metadata": {},
   "outputs": [],
   "source": []
  },
  {
   "cell_type": "code",
   "execution_count": null,
   "metadata": {},
   "outputs": [],
   "source": []
  }
 ],
 "metadata": {
  "kernelspec": {
   "display_name": "Python 3",
   "language": "python",
   "name": "python3"
  },
  "language_info": {
   "codemirror_mode": {
    "name": "ipython",
    "version": 3
   },
   "file_extension": ".py",
   "mimetype": "text/x-python",
   "name": "python",
   "nbconvert_exporter": "python",
   "pygments_lexer": "ipython3",
   "version": "3.8.8"
  }
 },
 "nbformat": 4,
 "nbformat_minor": 4
}
